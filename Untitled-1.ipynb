{
 "cells": [
  {
   "cell_type": "code",
   "execution_count": 4,
   "metadata": {},
   "outputs": [
    {
     "name": "stdout",
     "output_type": "stream",
     "text": [
      "문법적으로 맞는 문장은 다음과 같습니다.\n",
      "\n",
      "\"My name is Austin.\"\n",
      "\n",
      "문제가 되는 부분은 \"I\"입니다. \"I\"는 명사로 '나', '저'라는 뜻을 가지지만, 이 문장에서는 소유를 나타내는 서술어가 필요한데 'I'는 해당하지 않습니다.\n",
      "\n",
      "대신, \"my\"라는 소유형용사가 필요합니다. \"my\"는 '나의', '제'라는 뜻을 가지며, 다음과 같은 문장에서 사용됩니다.\n",
      "\n",
      "- My name은 나의 이름을 뜻합니다.\n",
      "- My car는 나의 자동차를 뜻합니다.\n",
      "\n",
      "따라서, \"I name\"대신에 \"My name\"을 사용하는 것이 맞습니다.\n"
     ]
    }
   ],
   "source": [
    "import os\n",
    "from groq import Groq\n",
    "import config\n",
    "\n",
    "# 키를 여기에 넣어주세요\n",
    "GROQ_API_KEY=config.API_KEY\n",
    "\n",
    "# Groq 클라이언트 초기화\n",
    "client = Groq(\n",
    "    api_key=GROQ_API_KEY\n",
    ")\n",
    "\n",
    "# API 호출\n",
    "chat_completion = client.chat.completions.create(\n",
    "    messages=[\n",
    "        {\n",
    "            \"role\": \"user\",\n",
    "            \"content\": \"다음의 문장을 문법적으로 맞게 고치고 어디가 어떻게 틀렸는지 한국어로 설명해줘. 한자, 일본어는 절대 쓰지 말아줘. I name is Austin. \",\n",
    "        }\n",
    "    ],\n",
    "    model=\"llama-3.1-70b-versatile\",\n",
    ")\n",
    "\n",
    "# 응답 출력\n",
    "print(chat_completion.choices[0].message.content)"
   ]
  },
  {
   "cell_type": "code",
   "execution_count": 1,
   "metadata": {},
   "outputs": [
    {
     "name": "stdout",
     "output_type": "stream",
     "text": [
      "{'object': 'list', 'data': [{'id': 'llama3-8b-8192', 'object': 'model', 'created': 1693721698, 'owned_by': 'Meta', 'active': True, 'context_window': 8192, 'public_apps': None}, {'id': 'gemma-7b-it', 'object': 'model', 'created': 1693721698, 'owned_by': 'Google', 'active': True, 'context_window': 8192, 'public_apps': None}, {'id': 'llama-guard-3-8b', 'object': 'model', 'created': 1693721698, 'owned_by': 'Meta', 'active': True, 'context_window': 8192, 'public_apps': None}, {'id': 'llava-v1.5-7b-4096-preview', 'object': 'model', 'created': 1725402373, 'owned_by': 'Other', 'active': True, 'context_window': 4096, 'public_apps': None}, {'id': 'mixtral-8x7b-32768', 'object': 'model', 'created': 1693721698, 'owned_by': 'Mistral AI', 'active': True, 'context_window': 32768, 'public_apps': None}, {'id': 'llama-3.1-8b-instant', 'object': 'model', 'created': 1693721698, 'owned_by': 'Meta', 'active': True, 'context_window': 131072, 'public_apps': None}, {'id': 'llama3-groq-8b-8192-tool-use-preview', 'object': 'model', 'created': 1693721698, 'owned_by': 'Groq', 'active': True, 'context_window': 8192, 'public_apps': None}, {'id': 'gemma2-9b-it', 'object': 'model', 'created': 1693721698, 'owned_by': 'Google', 'active': True, 'context_window': 8192, 'public_apps': None}, {'id': 'distil-whisper-large-v3-en', 'object': 'model', 'created': 1693721698, 'owned_by': 'Hugging Face', 'active': True, 'context_window': 448, 'public_apps': None}, {'id': 'llama3-groq-70b-8192-tool-use-preview', 'object': 'model', 'created': 1693721698, 'owned_by': 'Groq', 'active': True, 'context_window': 8192, 'public_apps': None}, {'id': 'whisper-large-v3', 'object': 'model', 'created': 1693721698, 'owned_by': 'OpenAI', 'active': True, 'context_window': 448, 'public_apps': None}, {'id': 'llama-3.1-70b-versatile', 'object': 'model', 'created': 1693721698, 'owned_by': 'Meta', 'active': True, 'context_window': 131072, 'public_apps': None}, {'id': 'llama3-70b-8192', 'object': 'model', 'created': 1693721698, 'owned_by': 'Meta', 'active': True, 'context_window': 8192, 'public_apps': None}]}\n"
     ]
    }
   ],
   "source": [
    "import requests\n",
    "import os\n",
    "import config\n",
    "\n",
    "api_key = config.API_KEY\n",
    "url = \"https://api.groq.com/openai/v1/models\"\n",
    "\n",
    "headers = {\n",
    "    \"Authorization\": f\"Bearer {api_key}\",\n",
    "    \"Content-Type\": \"application/json\"\n",
    "}\n",
    "\n",
    "response = requests.get(url, headers=headers)\n",
    "\n",
    "print(response.json())"
   ]
  },
  {
   "cell_type": "code",
   "execution_count": 3,
   "metadata": {},
   "outputs": [
    {
     "name": "stdout",
     "output_type": "stream",
     "text": [
      "안녕하세요, 오늘은 Austin 학생의 영어 문장에 대해 검수를 해보겠습니다. \n",
      "\n",
      "먼저 제시된 문장은 \"i name is Austin\"입니다. 하지만, 정답은 \"My name is Austin\"입니다.\n",
      "\n",
      "잘못된 부분은 두 가지입니다. \n",
      "\n",
      "1. 'i'는 대문자 'I'로 시작해야 합니다. England 영문법과 America 영문법에서는 대문자와 소문자의 사용이 중요합니다. 대표적으로 'I'는 항상 대문자로 시작해야 합니다. 'i'가 아닌, 'I'로 사용해야 합니다. \n",
      "\n",
      "2. 'name'이라는 단어 앞에는 소유격을 나타내는 'my'라는 관사가 필요합니다. 소유격을 나타낼 때는 항상 관사 'my'를 사용하여 속성을 나타내는 것이 중요합니다.\n",
      "\n",
      "따라서, 정답은 \"My name is Austin\"입니다.\n",
      "문의하신 문단을 분석한 결과, teknolojia(기술)의 중요성을 강조하는 내용으로 다음과 같이 요약할 수 있습니다.\n",
      "\n",
      " 기술은 우리 일상 생활의 모든 측면을แปลง하여 주었기 때문에, 기술의 중요성을 과장할 수 없습니다. 인터넷의 출현으로 인해 전 세계 사람들이 연결되어 即時 통신과 정보공유가 가능해졌습니다. 이러한 연결성은 소셜미디어 플랫폼의 성장과 원격근무 및 온라인교육의 출현으로 이어져, 사람들은 지리적인 경계를 뛰어넘어도 관계를 유지하고 어디에서든 일하거나 공부할 수 있게되었습니다. 또한 인공지능과 머신러닝의 발전으로 인해 산업을 자동화하고 효율성을 향상시키며 데이터분석을 통해貴重한 통찰력을 제공하고 있습니다. 그러나 이러한 급격한 기술 발전은 개인 정보 보호, 디지털 격차, 자동화의 직업 영향과 같은 도전을 가져옵니다. 따라서 이러한 복잡한 상황을 이해하기 위해, 기술의 이점을 활용하고 윤리적인 영향에 대한 균형을 잡는 것은 매우 중요합니다. 기술의 발전이 더 크게 사회에 기여하고 포용성을 유지하며 지속 가능성을 बढ려가는 방향으로 진행되어야 합니다.\n"
     ]
    }
   ],
   "source": [
    "import os\n",
    "from groq import Groq\n",
    "import config as config\n",
    "\n",
    "# Groq 클라이언트 초기화\n",
    "client = Groq(\n",
    "    api_key=config.API_KEY\n",
    ")\n",
    "\n",
    "# Prompt 템플릿을 변수로 정의\n",
    "correct_grammar_template = \"당신은 영어 선생님으로 당신의 직무는 영어를 배우는 학생들을 가르치고 올바른 영어를 사용할 수 있게 도와주는 선생님입니다. 학생들은 한국인이기에 무조건 한국말을 사용해야 합니다. 한국어 외에 다른 언어로 설명하면 한국 학생들은 더이상 수업에 나오지 않을 겁니다. 다른 언어를 사용하지 않도록 주의하세요. 단, 학생이 제시한 문장은 영어 그대로 사용해주세요. 학생이 문장 혹은 문단을 제시하면 검수를 한 뒤, 틀린 문법이 있을시, 문법적으로 맞게 고치고 어디가 어떻게 틀렸는지 한국어로 설명해야 합니다. 다음은 학생이 당신에게 검수를 요청하는 내용입니다.\\n {sentence} \\n 다음 내용을 검수하고 틀린 부분이 있으면 문법 위주로 친절하게 단계별로 설명해주세요.\"\n",
    "\n",
    "description_template = \"당신은 영어 선생님으로 당신의 직무는 영어를 배우는 학생들을 가르치고 올바른 영어를 사용할 수 있게 도와주는 선생님입니다. 학생들은 한국인이기에 무조건 한국말을 사용해야 합니다. 한국어 외에 다른 언어로 설명하면 한국 학생들은 더이상 수업에 나오지 않을 겁니다. 다른 언어를 사용하지 않도록 주의하세요. 단, 학생이 제시한 문장은 영어 그대로 사용해주세요. 학생이 영어로 된 문장 혹은 문단을 제시하면 당신은 이 문장을 분석해서 설명해주어야 합니다. 간결하게 설명하되, 내용이 누락되면 안됩니다. 다음은 학생이 당신에게 물어보는 내용입니다.\\n {sentence} \\n 다음 내용을 분석한 뒤, 요약하여 전달해주세요. 문장은 끊어지지 않고 전체적으로 이어지게 만들어주세요\"\n",
    "\n",
    "def call_Groq_api(prompt):\n",
    "    response = client.chat.completions.create(\n",
    "        messages=[\n",
    "            {\n",
    "                \"role\": \"user\",\n",
    "                \"content\": prompt,\n",
    "            }\n",
    "        ],\n",
    "        model=\"llama-3.1-70b-versatile\",\n",
    "    )\n",
    "    \n",
    "    return response.choices[0].message.content\n",
    "\n",
    "def prompt_format(prompt, sentence):\n",
    "    prompt_template = prompt.format(sentence=sentence)\n",
    "    return call_Groq_api(prompt_template)\n",
    "\n",
    "# 사용 예시\n",
    "print(prompt_format(correct_grammar_template, \"i name is Austin\"))\n",
    "print(prompt_format(description_template, \"In the modern world, the importance of technology cannot be overstated, as it has transformed every aspect of our daily lives, from how we communicate and socialize to how we work and learn. The advent of the internet has connected people across the globe, allowing for instantaneous communication and the sharing of information on an unprecedented scale. This connectivity has not only fostered the growth of social media platforms, enabling individuals to maintain relationships regardless of geographical boundaries, but it has also facilitated the rise of remote work and online education, giving people the flexibility to work or study from anywhere in the world. Moreover, advancements in artificial intelligence and machine learning are revolutionizing industries by automating tasks, enhancing efficiency, and providing valuable insights through data analysis. However, this rapid technological evolution also brings challenges, such as concerns over privacy, the digital divide, and the impact of automation on employment. As we continue to navigate this complex landscape, it is crucial to strike a balance between leveraging the benefits of technology and addressing the ethical implications it presents, ensuring that progress serves the greater good while fostering inclusivity and sustainability.\"))\n",
    "\n"
   ]
  }
 ],
 "metadata": {
  "kernelspec": {
   "display_name": "eng-teacher",
   "language": "python",
   "name": "python3"
  },
  "language_info": {
   "codemirror_mode": {
    "name": "ipython",
    "version": 3
   },
   "file_extension": ".py",
   "mimetype": "text/x-python",
   "name": "python",
   "nbconvert_exporter": "python",
   "pygments_lexer": "ipython3",
   "version": "3.11.9"
  }
 },
 "nbformat": 4,
 "nbformat_minor": 2
}
