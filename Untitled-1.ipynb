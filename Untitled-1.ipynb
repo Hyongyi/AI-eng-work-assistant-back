{
 "cells": [
  {
   "cell_type": "code",
   "execution_count": 4,
   "metadata": {},
   "outputs": [
    {
     "name": "stdout",
     "output_type": "stream",
     "text": [
      "문법적으로 맞는 문장은 다음과 같습니다.\n",
      "\n",
      "\"My name is Austin.\"\n",
      "\n",
      "문제가 되는 부분은 \"I\"입니다. \"I\"는 명사로 '나', '저'라는 뜻을 가지지만, 이 문장에서는 소유를 나타내는 서술어가 필요한데 'I'는 해당하지 않습니다.\n",
      "\n",
      "대신, \"my\"라는 소유형용사가 필요합니다. \"my\"는 '나의', '제'라는 뜻을 가지며, 다음과 같은 문장에서 사용됩니다.\n",
      "\n",
      "- My name은 나의 이름을 뜻합니다.\n",
      "- My car는 나의 자동차를 뜻합니다.\n",
      "\n",
      "따라서, \"I name\"대신에 \"My name\"을 사용하는 것이 맞습니다.\n"
     ]
    }
   ],
   "source": [
    "import os\n",
    "from groq import Groq\n",
    "import config\n",
    "\n",
    "# 키를 여기에 넣어주세요\n",
    "GROQ_API_KEY=config.API_KEY\n",
    "\n",
    "# Groq 클라이언트 초기화\n",
    "client = Groq(\n",
    "    api_key=GROQ_API_KEY\n",
    ")\n",
    "\n",
    "# API 호출\n",
    "chat_completion = client.chat.completions.create(\n",
    "    messages=[\n",
    "        {\n",
    "            \"role\": \"user\",\n",
    "            \"content\": \"다음의 문장을 문법적으로 맞게 고치고 어디가 어떻게 틀렸는지 한국어로 설명해줘. 한자, 일본어는 절대 쓰지 말아줘. I name is Austin. \",\n",
    "        }\n",
    "    ],\n",
    "    model=\"llama-3.1-70b-versatile\",\n",
    ")\n",
    "\n",
    "# 응답 출력\n",
    "print(chat_completion.choices[0].message.content)"
   ]
  },
  {
   "cell_type": "code",
   "execution_count": 1,
   "metadata": {},
   "outputs": [
    {
     "name": "stdout",
     "output_type": "stream",
     "text": [
      "{'object': 'list', 'data': [{'id': 'llama3-8b-8192', 'object': 'model', 'created': 1693721698, 'owned_by': 'Meta', 'active': True, 'context_window': 8192, 'public_apps': None}, {'id': 'gemma-7b-it', 'object': 'model', 'created': 1693721698, 'owned_by': 'Google', 'active': True, 'context_window': 8192, 'public_apps': None}, {'id': 'llama-guard-3-8b', 'object': 'model', 'created': 1693721698, 'owned_by': 'Meta', 'active': True, 'context_window': 8192, 'public_apps': None}, {'id': 'llava-v1.5-7b-4096-preview', 'object': 'model', 'created': 1725402373, 'owned_by': 'Other', 'active': True, 'context_window': 4096, 'public_apps': None}, {'id': 'mixtral-8x7b-32768', 'object': 'model', 'created': 1693721698, 'owned_by': 'Mistral AI', 'active': True, 'context_window': 32768, 'public_apps': None}, {'id': 'llama-3.1-8b-instant', 'object': 'model', 'created': 1693721698, 'owned_by': 'Meta', 'active': True, 'context_window': 131072, 'public_apps': None}, {'id': 'llama3-groq-8b-8192-tool-use-preview', 'object': 'model', 'created': 1693721698, 'owned_by': 'Groq', 'active': True, 'context_window': 8192, 'public_apps': None}, {'id': 'gemma2-9b-it', 'object': 'model', 'created': 1693721698, 'owned_by': 'Google', 'active': True, 'context_window': 8192, 'public_apps': None}, {'id': 'distil-whisper-large-v3-en', 'object': 'model', 'created': 1693721698, 'owned_by': 'Hugging Face', 'active': True, 'context_window': 448, 'public_apps': None}, {'id': 'llama3-groq-70b-8192-tool-use-preview', 'object': 'model', 'created': 1693721698, 'owned_by': 'Groq', 'active': True, 'context_window': 8192, 'public_apps': None}, {'id': 'whisper-large-v3', 'object': 'model', 'created': 1693721698, 'owned_by': 'OpenAI', 'active': True, 'context_window': 448, 'public_apps': None}, {'id': 'llama-3.1-70b-versatile', 'object': 'model', 'created': 1693721698, 'owned_by': 'Meta', 'active': True, 'context_window': 131072, 'public_apps': None}, {'id': 'llama3-70b-8192', 'object': 'model', 'created': 1693721698, 'owned_by': 'Meta', 'active': True, 'context_window': 8192, 'public_apps': None}]}\n"
     ]
    }
   ],
   "source": [
    "import requests\n",
    "import os\n",
    "import config\n",
    "\n",
    "api_key = config.API_KEY\n",
    "url = \"https://api.groq.com/openai/v1/models\"\n",
    "\n",
    "headers = {\n",
    "    \"Authorization\": f\"Bearer {api_key}\",\n",
    "    \"Content-Type\": \"application/json\"\n",
    "}\n",
    "\n",
    "response = requests.get(url, headers=headers)\n",
    "\n",
    "print(response.json())"
   ]
  },
  {
   "cell_type": "code",
   "execution_count": 7,
   "metadata": {},
   "outputs": [
    {
     "name": "stdout",
     "output_type": "stream",
     "text": [
      "\"내 이름은 오스틴\"을 영어로하는 올바른 문장이 할ibo울려면 \"My name is Austin\" 여어야 합니다.\n",
      "\n",
      "원래 문장인 \"i name is Austin\"에 문제는 두 가지가 있습니다.\n",
      "1. \"i\" 대신 큰 \"I\"를 사용해야 합니다. 영어에서 \"I\"는 주격대명사로 큰 대문자로 작성해야 합니다. \n",
      "2. 문장을 만들어집니다. \"i\"는 보였지만  \"My\"가 더 적절한 표현이 합니다. my라는 소유지가 필요합니다.\n",
      "\n",
      "따라서 최종적으로 완성된 文어는 \"My name is Austin\"입니다.\n",
      "이 문장의 의미는 다음과 같습니다:\n",
      "\n",
      "\"나는 프로그래밍을 매우 좋아한다\" 또는 \"나는 컴퓨터 프로그래밍을 매우 즐긴다\"라는 것을 나타냅니다.\n",
      "\n",
      "여기서 \"love\"는 강한 애정을 의미하는 단어로, 어떠한 활동이나 주제에 대해 매우매우 열정을 가지고 있다라는 것을 표현합니다.\n",
      "\n",
      "따라서 이 문장은 해당 사람이 프로그래밍을 매우 즐기고, 이는 그들의 주요 관심사 또는 취미 중 하나라는 것을 나타냅니다.\n"
     ]
    }
   ],
   "source": [
    "import os\n",
    "from groq import Groq\n",
    "import config as config\n",
    "\n",
    "# Groq 클라이언트 초기화\n",
    "client = Groq(\n",
    "    api_key=config.API_KEY\n",
    ")\n",
    "\n",
    "# Prompt 템플릿을 변수로 정의\n",
    "correct_grammar_template = \"다음의 문장을 문법적으로 맞게 고치고 어디가 어떻게 틀렸는지 한국어로 설명해줘. 한자는 쓰지 말아줘. {sentence}\"\n",
    "description_template = \"이 문장의 의미를 설명해줘: {sentence}\"\n",
    "\n",
    "def call_Groq_api(prompt):\n",
    "    response = client.chat.completions.create(\n",
    "        messages=[\n",
    "            {\n",
    "                \"role\": \"user\",\n",
    "                \"content\": prompt,\n",
    "            }\n",
    "        ],\n",
    "        model=\"llama-3.1-70b-versatile\",\n",
    "    )\n",
    "    \n",
    "    return response.choices[0].message.content\n",
    "\n",
    "def correct_grammar(sentence):\n",
    "    prompt = correct_grammar_template.format(sentence=sentence)\n",
    "    return call_Groq_api(prompt)\n",
    "\n",
    "def another_function(sentence):\n",
    "    prompt = description_template.format(sentence=sentence)\n",
    "    return call_Groq_api(prompt)\n",
    "\n",
    "# 사용 예시\n",
    "print(correct_grammar(\"i name is Austin\"))\n",
    "print(another_function(\"I love programming\"))\n"
   ]
  }
 ],
 "metadata": {
  "kernelspec": {
   "display_name": "eng-teacher",
   "language": "python",
   "name": "python3"
  },
  "language_info": {
   "codemirror_mode": {
    "name": "ipython",
    "version": 3
   },
   "file_extension": ".py",
   "mimetype": "text/x-python",
   "name": "python",
   "nbconvert_exporter": "python",
   "pygments_lexer": "ipython3",
   "version": "3.11.9"
  }
 },
 "nbformat": 4,
 "nbformat_minor": 2
}
