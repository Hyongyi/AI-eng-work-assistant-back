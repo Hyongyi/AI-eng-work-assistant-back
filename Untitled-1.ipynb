{
 "cells": [
  {
   "cell_type": "code",
   "execution_count": 4,
   "metadata": {},
   "outputs": [
    {
     "name": "stdout",
     "output_type": "stream",
     "text": [
      "문법적으로 맞는 문장은 다음과 같습니다.\n",
      "\n",
      "\"My name is Austin.\"\n",
      "\n",
      "문제가 되는 부분은 \"I\"입니다. \"I\"는 명사로 '나', '저'라는 뜻을 가지지만, 이 문장에서는 소유를 나타내는 서술어가 필요한데 'I'는 해당하지 않습니다.\n",
      "\n",
      "대신, \"my\"라는 소유형용사가 필요합니다. \"my\"는 '나의', '제'라는 뜻을 가지며, 다음과 같은 문장에서 사용됩니다.\n",
      "\n",
      "- My name은 나의 이름을 뜻합니다.\n",
      "- My car는 나의 자동차를 뜻합니다.\n",
      "\n",
      "따라서, \"I name\"대신에 \"My name\"을 사용하는 것이 맞습니다.\n"
     ]
    }
   ],
   "source": [
    "import os\n",
    "from groq import Groq\n",
    "import config\n",
    "\n",
    "# 키를 여기에 넣어주세요\n",
    "GROQ_API_KEY=config.API_KEY\n",
    "\n",
    "# Groq 클라이언트 초기화\n",
    "client = Groq(\n",
    "    api_key=GROQ_API_KEY\n",
    ")\n",
    "\n",
    "# API 호출\n",
    "chat_completion = client.chat.completions.create(\n",
    "    messages=[\n",
    "        {\n",
    "            \"role\": \"user\",\n",
    "            \"content\": \"다음의 문장을 문법적으로 맞게 고치고 어디가 어떻게 틀렸는지 한국어로 설명해줘. 한자, 일본어는 절대 쓰지 말아줘. I name is Austin. \",\n",
    "        }\n",
    "    ],\n",
    "    model=\"llama-3.1-70b-versatile\",\n",
    ")\n",
    "\n",
    "# 응답 출력\n",
    "print(chat_completion.choices[0].message.content)"
   ]
  },
  {
   "cell_type": "code",
   "execution_count": 1,
   "metadata": {},
   "outputs": [
    {
     "name": "stdout",
     "output_type": "stream",
     "text": [
      "{'object': 'list', 'data': [{'id': 'llama3-8b-8192', 'object': 'model', 'created': 1693721698, 'owned_by': 'Meta', 'active': True, 'context_window': 8192, 'public_apps': None}, {'id': 'gemma-7b-it', 'object': 'model', 'created': 1693721698, 'owned_by': 'Google', 'active': True, 'context_window': 8192, 'public_apps': None}, {'id': 'llama-guard-3-8b', 'object': 'model', 'created': 1693721698, 'owned_by': 'Meta', 'active': True, 'context_window': 8192, 'public_apps': None}, {'id': 'llava-v1.5-7b-4096-preview', 'object': 'model', 'created': 1725402373, 'owned_by': 'Other', 'active': True, 'context_window': 4096, 'public_apps': None}, {'id': 'mixtral-8x7b-32768', 'object': 'model', 'created': 1693721698, 'owned_by': 'Mistral AI', 'active': True, 'context_window': 32768, 'public_apps': None}, {'id': 'llama-3.1-8b-instant', 'object': 'model', 'created': 1693721698, 'owned_by': 'Meta', 'active': True, 'context_window': 131072, 'public_apps': None}, {'id': 'llama3-groq-8b-8192-tool-use-preview', 'object': 'model', 'created': 1693721698, 'owned_by': 'Groq', 'active': True, 'context_window': 8192, 'public_apps': None}, {'id': 'gemma2-9b-it', 'object': 'model', 'created': 1693721698, 'owned_by': 'Google', 'active': True, 'context_window': 8192, 'public_apps': None}, {'id': 'distil-whisper-large-v3-en', 'object': 'model', 'created': 1693721698, 'owned_by': 'Hugging Face', 'active': True, 'context_window': 448, 'public_apps': None}, {'id': 'llama3-groq-70b-8192-tool-use-preview', 'object': 'model', 'created': 1693721698, 'owned_by': 'Groq', 'active': True, 'context_window': 8192, 'public_apps': None}, {'id': 'whisper-large-v3', 'object': 'model', 'created': 1693721698, 'owned_by': 'OpenAI', 'active': True, 'context_window': 448, 'public_apps': None}, {'id': 'llama-3.1-70b-versatile', 'object': 'model', 'created': 1693721698, 'owned_by': 'Meta', 'active': True, 'context_window': 131072, 'public_apps': None}, {'id': 'llama3-70b-8192', 'object': 'model', 'created': 1693721698, 'owned_by': 'Meta', 'active': True, 'context_window': 8192, 'public_apps': None}]}\n"
     ]
    }
   ],
   "source": [
    "import requests\n",
    "import os\n",
    "import config\n",
    "\n",
    "api_key = config.API_KEY\n",
    "url = \"https://api.groq.com/openai/v1/models\"\n",
    "\n",
    "headers = {\n",
    "    \"Authorization\": f\"Bearer {api_key}\",\n",
    "    \"Content-Type\": \"application/json\"\n",
    "}\n",
    "\n",
    "response = requests.get(url, headers=headers)\n",
    "\n",
    "print(response.json())"
   ]
  },
  {
   "cell_type": "code",
   "execution_count": 2,
   "metadata": {},
   "outputs": [
    {
     "name": "stdout",
     "output_type": "stream",
     "text": [
      "안녕하세요, 학생분. 검수 결과를 알려드리겠습니다. 제시하신 내용은 다음과 같습니다.\n",
      "\n",
      "원래 문장: \"i name is Austin\"\n",
      "검수된 문장: \"My name is Austin.\"\n",
      "\n",
      "정확하게는 \"i\"가 제시되어 있지만, 이 경우에는 대문자 \"I\"를 사용해야 합니다. \"I\"는 주어로 문장의 말투를 나타내는 첫 번째 인칭 단수 형태로, 항상 대문자로 시작해야 합니다. 또한, \"name\"을 꾸밀 수 있는 소유격을 나타내는 \"my\"가 생략되어 있으니, 이를 추가로 입력해야 합니다. \n",
      "\n",
      "한마디로, 제시된 문장의 그대로 사용할 경우, 의미가 잘 전달되지 않으니, 문장이 뜻하는 바가 맞게 소유격을 추가하고, 대문자를 사용하여 \"My name is Austin\"으로 고쳐야 하겠습니다.\n",
      "학생이 제시한 문장은 다음의 내용을 설명합니다. \n",
      "\n",
      "대상 문장에서는 강한 비와 바람으로 인해 야외 행사가 취소될 nguy 능성이 있던 상황에서, 결연한 주최자들은 끊임없이 노력하여 천막을 설치하고 좌석을 배치하고, 모든 참석자들이 재미가 가득한 활동과 맛있는 음식을 즐길 수 있도록 가장 좋은 경험을 하게 했습니다. \n",
      "\n",
      "지금 분석해 보겠습니다. \n",
      "\n",
      "- \"Despite\"는 구체적으로 어떤 말 앞에 쓰이는지 분석해 보겠습니다. \n",
      "  - 문장의 처음에서 사용된 말로, 일반적으로 \"때문에\"라는 뜻을 지니고 있습니다. 하지만, 뒤에 나오는 문장과 내포된 논리적인 이야기는, \"대신에\", \"그럼에도 불구하고\", \"그럼에도 불구하고\"라고 표현할 수 있습니다.\n",
      "\n",
      "- \"the determined organizers\"를 들여다보겠습니다. \n",
      "  - \"determined\"라는 형용사가 사용되었습니다. 한국으로 비すれば, \"단단한\", \"강한\", \"적재적소에 올바른\", \"결연한\"이라는 뜻의 형용사라고 할 수 있습니다. 여기서 의미는 \"결심한\", \"결연한\"이란 뜻으로 쓰였습니다. \"organizers\"는 \"주관자\", \"판 단\", \"주최자\", \"관리자\"의 뜻으로 쓰였습니다.\n",
      "\n",
      "- \"worked tirelessly to\"라는 문장은 어떤 의미인지 들여다보겠습니다. \n",
      "  - \"tirelessly\"는 \"끊임없이\", \"지쳤을 때까지\"라는 뜻이 있습니다. 앞에서 \"worked\"라는 동사가 사용되었기 때문에, 가장 의미있는 단어는 \"worked\"를 의미할 수 있습니다. 그리고 to(인피니티브)의 형태로 사용이 되었기 때문에, \"为了\"라는 뜻으로 바꿀 수도 있을 것입니다. 따라서, \"끊임없이\"라는 뜻의 단어로 해석하고 \"결과\"로 바꾸는 것은 더 적절하지 않을 것입니다. \n",
      "\n",
      "- \"set up the tents, arrange the seating, and ensure \"로 이어집니다. \n",
      "  - \"set up\"에 대해서 해석해야 합니다. \n",
      "    - \"set\"의 동사에는 여러 다양한 표현이 있습니다. \n",
      "      1. \"장소로 이동하다\"는 의미는 \"이동\"으로translator 할 수 있습니다. 2. \"규정, 제재하다\"는 경우 한국에서는 \"제정\", \"규정\"으로 밖에 할 수 없습니다. 3.  \"사물이 제 자리에 있도록 하다\"의 경우 한국에서는 \"놓다\", \"체계화하다\", \"설치하다\"라는 뜻의 동사로 쓸 수도 있습니다. \n",
      "      4. \"모임을 준비하다\"의 경우는 한국 의미에는, \"준비하다\"라는 표현이 가장 적절할 것입니다. \n",
      "     문맥상 제 네 번째 의미로 사용이 된 걸 알 수 있습니다. 5. \"인격적인 경우\"는 자신의 \"기분, 상태\"를 설정한 환경으로 맞추는 경우입니다. 이 경우에는, \"자기 몸 마음을 스스로 통제\"라는 해방감에 해당하는 기분이 담긴 문장을 만들 수 있습니다. 이 경우에는 문맥상 5번이 해당이 된 사건은 아닙니다.\n",
      "      - 따라서, \"천막을 설치하다\"는 의미로 \"set up\"은 제 3의 \"사물이 제자리에 있도록 하다\"의 번역으로 쓸 수 있습니다. \n",
      "\n",
      "  - \"arrange\"는 어떤지 해석해야 합니다.\n",
      "    - 만약 앞의 문장에서 \" 천막을 설치하다 \"로 해석했다면, 세팅하는 것이라고 통일성을 지키는 해석과, 정리한다는 의미의 해석이 어느게 맞을지 난감합니다. \n",
      "    - 하지만, 인피니티브 앞에 있는 동사 \"set up\"의 경우 제 네 번째 의미로 \"준비하다\"로 보았습니다. 따라서, 이 경우에는, \"준비하다\", \"체계화하다\"라는 의미보다 더 뒷 문장에서 사용되기 이전에 \"앞서 사용된 동사 set up\"의 의미를 앞에 언급해야 합니다. 따라서, \"천막을 설치하고\"가 아니라, \"천막을 준비하고, 책상자를 체계적으로 배열하고\"라는 뜻을 \"앞선 set up\" 동사에서, 앞선 동사의 다음 동사이자 인피니티브의 동사로 사용하는게 더 정확한 해석법이라고 합니다. \n",
      "\n",
      "    - \"ensure\"는 담보하는 의미의 \"보장하다\"로서, 'ensure'라는 전치사 \"보장하기 위하여\"라는 취지로 문장으로 확장된다는 점을 명심하시면, 전체 문장이 이해가 되실 겁니다.\n"
     ]
    }
   ],
   "source": [
    "import os\n",
    "from groq import Groq\n",
    "import config as config\n",
    "\n",
    "# Groq 클라이언트 초기화\n",
    "client = Groq(\n",
    "    api_key=config.API_KEY\n",
    ")\n",
    "\n",
    "# Prompt 템플릿을 변수로 정의\n",
    "correct_grammar_template = \"당신은 영어 선생님으로 당신의 직무는 영어를 배우는 학생들을 가르치고 올바른 영어를 사용할 수 있게 도와주는 선생님입니다. 학생들은 한국인이기에 무조건 한국말을 사용해야 합니다. 한국어 외에 다른 언어로 설명하면 한국 학생들은 더이상 수업에 나오지 않을 겁니다. 다른 언어를 사용하지 않도록 주의하세요. 단, 학생이 제시한 문장은 영어 그대로 사용해주세요. 학생이 문장 혹은 문단을 제시하면 검수를 한 뒤, 틀린 문법이 있을시, 문법적으로 맞게 고치고 어디가 어떻게 틀렸는지 한국어로 설명해야 합니다. 다음은 학생이 당신에게 검수를 요청하는 내용입니다.\\n {sentence} \\n 다음 내용을 검수하고 틀린 부분이 있으면 문법 위주로 친절하게 단계별로 설명해주세요.\"\n",
    "\n",
    "description_template = \"당신은 영어 선생님으로 당신의 직무는 영어를 배우는 학생들을 가르치고 올바른 영어를 사용할 수 있게 도와주는 선생님입니다. 학생들은 한국인이기에 무조건 한국말을 사용해야 합니다. 한국어 외에 다른 언어로 설명하면 한국 학생들은 더이상 수업에 나오지 않을 겁니다. 다른 언어를 사용하지 않도록 주의하세요. 단, 학생이 제시한 문장은 영어 그대로 사용해주세요. 학생이 영어로 된 문장 혹은 문단을 제시하면 당신은 이 문장을 분석해서 설명해주어야 합니다. 간결하게 설명하되, 내용이 누락되면 안됩니다. 다음은 학생이 당신에게 물어보는 내용입니다.\\n {sentence} \\n 다음 내용을 분석한 뒤, 요약하여 전달해주세요. 문장은 끊어지지 않고 전체적으로 이어지게 만들어주세요\"\n",
    "\n",
    "def call_Groq_api(prompt):\n",
    "    response = client.chat.completions.create(\n",
    "        messages=[\n",
    "            {\n",
    "                \"role\": \"user\",\n",
    "                \"content\": prompt,\n",
    "            }\n",
    "        ],\n",
    "        model=\"llama-3.1-70b-versatile\",\n",
    "    )\n",
    "    \n",
    "    return response.choices[0].message.content\n",
    "\n",
    "def prompt_format(prompt, sentence):\n",
    "    prompt_template = prompt.format(sentence=sentence)\n",
    "    return call_Groq_api(prompt_template)\n",
    "\n",
    "# 사용 예시\n",
    "print(prompt_format(correct_grammar_template, \"i name is Austin\"))\n",
    "print(prompt_format(description_template, \"description_templateDespite the heavy rain and strong winds that threatened to cancel the outdoor event, the determined organizers worked tirelessly to set up the tents, arrange the seating, and ensure that all the attendees had a memorable experience filled with fun activities and delicious food.\"))\n",
    "\n"
   ]
  }
 ],
 "metadata": {
  "kernelspec": {
   "display_name": "eng-teacher",
   "language": "python",
   "name": "python3"
  },
  "language_info": {
   "codemirror_mode": {
    "name": "ipython",
    "version": 3
   },
   "file_extension": ".py",
   "mimetype": "text/x-python",
   "name": "python",
   "nbconvert_exporter": "python",
   "pygments_lexer": "ipython3",
   "version": "3.11.9"
  }
 },
 "nbformat": 4,
 "nbformat_minor": 2
}
