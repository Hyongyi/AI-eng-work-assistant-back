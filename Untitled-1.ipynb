{
 "cells": [
  {
   "cell_type": "code",
   "execution_count": 4,
   "metadata": {},
   "outputs": [
    {
     "name": "stdout",
     "output_type": "stream",
     "text": [
      "문법적으로 맞는 문장은 다음과 같습니다.\n",
      "\n",
      "\"My name is Austin.\"\n",
      "\n",
      "문제가 되는 부분은 \"I\"입니다. \"I\"는 명사로 '나', '저'라는 뜻을 가지지만, 이 문장에서는 소유를 나타내는 서술어가 필요한데 'I'는 해당하지 않습니다.\n",
      "\n",
      "대신, \"my\"라는 소유형용사가 필요합니다. \"my\"는 '나의', '제'라는 뜻을 가지며, 다음과 같은 문장에서 사용됩니다.\n",
      "\n",
      "- My name은 나의 이름을 뜻합니다.\n",
      "- My car는 나의 자동차를 뜻합니다.\n",
      "\n",
      "따라서, \"I name\"대신에 \"My name\"을 사용하는 것이 맞습니다.\n"
     ]
    }
   ],
   "source": [
    "import os\n",
    "from groq import Groq\n",
    "import config\n",
    "\n",
    "# 키를 여기에 넣어주세요\n",
    "GROQ_API_KEY=config.API_KEY\n",
    "\n",
    "# Groq 클라이언트 초기화\n",
    "client = Groq(\n",
    "    api_key=GROQ_API_KEY\n",
    ")\n",
    "\n",
    "# API 호출\n",
    "chat_completion = client.chat.completions.create(\n",
    "    messages=[\n",
    "        {\n",
    "            \"role\": \"user\",\n",
    "            \"content\": \"다음의 문장을 문법적으로 맞게 고치고 어디가 어떻게 틀렸는지 한국어로 설명해줘. 한자, 일본어는 절대 쓰지 말아줘. I name is Austin. \",\n",
    "        }\n",
    "    ],\n",
    "    model=\"llama-3.1-70b-versatile\",\n",
    ")\n",
    "\n",
    "# 응답 출력\n",
    "print(chat_completion.choices[0].message.content)"
   ]
  },
  {
   "cell_type": "code",
   "execution_count": 1,
   "metadata": {},
   "outputs": [
    {
     "name": "stdout",
     "output_type": "stream",
     "text": [
      "{'object': 'list', 'data': [{'id': 'llama3-8b-8192', 'object': 'model', 'created': 1693721698, 'owned_by': 'Meta', 'active': True, 'context_window': 8192, 'public_apps': None}, {'id': 'gemma-7b-it', 'object': 'model', 'created': 1693721698, 'owned_by': 'Google', 'active': True, 'context_window': 8192, 'public_apps': None}, {'id': 'llama-guard-3-8b', 'object': 'model', 'created': 1693721698, 'owned_by': 'Meta', 'active': True, 'context_window': 8192, 'public_apps': None}, {'id': 'llava-v1.5-7b-4096-preview', 'object': 'model', 'created': 1725402373, 'owned_by': 'Other', 'active': True, 'context_window': 4096, 'public_apps': None}, {'id': 'mixtral-8x7b-32768', 'object': 'model', 'created': 1693721698, 'owned_by': 'Mistral AI', 'active': True, 'context_window': 32768, 'public_apps': None}, {'id': 'llama-3.1-8b-instant', 'object': 'model', 'created': 1693721698, 'owned_by': 'Meta', 'active': True, 'context_window': 131072, 'public_apps': None}, {'id': 'llama3-groq-8b-8192-tool-use-preview', 'object': 'model', 'created': 1693721698, 'owned_by': 'Groq', 'active': True, 'context_window': 8192, 'public_apps': None}, {'id': 'gemma2-9b-it', 'object': 'model', 'created': 1693721698, 'owned_by': 'Google', 'active': True, 'context_window': 8192, 'public_apps': None}, {'id': 'distil-whisper-large-v3-en', 'object': 'model', 'created': 1693721698, 'owned_by': 'Hugging Face', 'active': True, 'context_window': 448, 'public_apps': None}, {'id': 'llama3-groq-70b-8192-tool-use-preview', 'object': 'model', 'created': 1693721698, 'owned_by': 'Groq', 'active': True, 'context_window': 8192, 'public_apps': None}, {'id': 'whisper-large-v3', 'object': 'model', 'created': 1693721698, 'owned_by': 'OpenAI', 'active': True, 'context_window': 448, 'public_apps': None}, {'id': 'llama-3.1-70b-versatile', 'object': 'model', 'created': 1693721698, 'owned_by': 'Meta', 'active': True, 'context_window': 131072, 'public_apps': None}, {'id': 'llama3-70b-8192', 'object': 'model', 'created': 1693721698, 'owned_by': 'Meta', 'active': True, 'context_window': 8192, 'public_apps': None}]}\n"
     ]
    }
   ],
   "source": [
    "import requests\n",
    "import os\n",
    "import config\n",
    "\n",
    "api_key = config.API_KEY\n",
    "url = \"https://api.groq.com/openai/v1/models\"\n",
    "\n",
    "headers = {\n",
    "    \"Authorization\": f\"Bearer {api_key}\",\n",
    "    \"Content-Type\": \"application/json\"\n",
    "}\n",
    "\n",
    "response = requests.get(url, headers=headers)\n",
    "\n",
    "print(response.json())"
   ]
  },
  {
   "cell_type": "code",
   "execution_count": 30,
   "metadata": {},
   "outputs": [
    {
     "name": "stdout",
     "output_type": "stream",
     "text": [
      "검수를 해보겠습니다.\n",
      "\n",
      "제시하신 문장은 \"i name is Austin\"입니다. 이 문장을 검수한 결과, 두 가지 오류를 찾을 수 있습니다.\n",
      "\n",
      "첫 번째 오류는 \"i\"입니다. 여기서 \"i\"는 대문자로 써야 합니다. 제시하신 문장에서 \"i\"는 소문자로 적혀있는데, 영어 문장의 종류에 관계없이 'I'는 항상 대문자로 시작해야 합니다. 따라서, 이 문장은 \"I\"로 시작해야 합니다.\n",
      "\n",
      "두 번째 오류는 \"name\"입니다. 여기서 \"name\"이 아니라 \"my name\"이 올 순 있지만, 선생님의 이전 검수를 받은 학생의 케이스와 동등하게 본다면, \"name\"의 위치를 \"name\"이 아닌 \"my name\"으로 정의 있어야 하므로, \"my name\"이 맞다고 정의합니다.\n",
      "\n",
      "따라서, 제시하신 문장을 문법적으로 올바르게 정리하면, \"My name is Austin\"이 됩니다.\n",
      "그럼 이 문장을 분석해 보겠습니다. \"I love programming\" 은 '나는 프로그래밍을 사랑한다' 라는 뜻입니다.\n",
      "\n",
      "* \"I\"는 第一인稱 대명사로 '나', '저'를 의미합니다. \n",
      "* \"love\"는 동사로 '사랑하다'의 의미입니다.\n",
      "* \"programming\"은 명사로 '프로그래밍', '프로그램 작성'을 의미합니다.\n",
      "\n",
      "이 문장을 사용하는 상황은 다음과 같습니다. 예를 들어, 프로그래밍을 rất 좋아해서 평소에 많은 시간을 프로그래밍에 할애했다든가, 프로그래밍을 통해 자신의 생각이나 아이디어를 표현하려고 할 때 사용할 수 있습니다.\n"
     ]
    }
   ],
   "source": [
    "import os\n",
    "from groq import Groq\n",
    "import config as config\n",
    "\n",
    "# Groq 클라이언트 초기화\n",
    "client = Groq(\n",
    "    api_key=config.API_KEY\n",
    ")\n",
    "\n",
    "# Prompt 템플릿을 변수로 정의\n",
    "correct_grammar_template = \"당신은 영어 선생님으로 당신의 직무는 영어를 배우는 학생들을 가르치고 올바른 영어를 사용할 수 있게 도와주는 선생님입니다. 학생들은 한국인이기에 무조건 한국말을 사용해야 합니다. 한국어 외에 다른 언어로 설명하면 한국 학생들은 더이상 수업에 나오지 않을 겁니다. 다른 언어를 사용하지 않도록 주의하세요. 단, 학생이 제시한 문장은 영어 그대로 사용해주세요. 학생이 문장 혹은 문단을 제시하면 검수를 한 뒤, 틀린 문법이 있을시, 문법적으로 맞게 고치고 어디가 어떻게 틀렸는지 한국어로 설명해야 합니다. 다음은 학생이 당신에게 검수를 요청하는 내용입니다.\\n {sentence} \\n 다음 내용을 검수하고 틀린 부분이 있으면 문법 위주로 친절하게 단계별로 설명해주세요.\"\n",
    "\n",
    "description_template = \"당신은 영어 선생님으로 당신의 직무는 영어를 배우는 학생들을 가르치고 올바른 영어를 사용할 수 있게 도와주는 선생님입니다. 학생들은 한국인이기에 무조건 한국말을 사용해야 합니다. 한국어 외에 다른 언어로 설명하면 한국 학생들은 더이상 수업에 나오지 않을 겁니다. 다른 언어를 사용하지 않도록 주의하세요. 단, 학생이 제시한 문장은 영어 그대로 사용해주세요. 학생이 영어로 된 문장 혹은 문단을 제시하면 당신은 이 문장을 분석해서 설명해주어야 합니다. 간결하게 설명하되, 내용이 누락되면 안됩니다. 다음은 학생이 당신에게 물어보는 내용입니다.\\n {sentence} \\n 다음 내용을 분석한 뒤, 요약하여 전달해주세요.\"\n",
    "\n",
    "def call_Groq_api(prompt):\n",
    "    response = client.chat.completions.create(\n",
    "        messages=[\n",
    "            {\n",
    "                \"role\": \"user\",\n",
    "                \"content\": prompt,\n",
    "            }\n",
    "        ],\n",
    "        model=\"llama-3.1-70b-versatile\",\n",
    "    )\n",
    "    \n",
    "    return response.choices[0].message.content\n",
    "\n",
    "def prompt_format(prompt, sentence):\n",
    "    prompt_template = prompt.format(sentence=sentence)\n",
    "    return call_Groq_api(prompt_template)\n",
    "\n",
    "# 사용 예시\n",
    "print(prompt_format(correct_grammar_template, \"i name is Austin\"))\n",
    "print(prompt_format(description_template, \"I love programming\"))\n",
    "\n"
   ]
  }
 ],
 "metadata": {
  "kernelspec": {
   "display_name": "eng-teacher",
   "language": "python",
   "name": "python3"
  },
  "language_info": {
   "codemirror_mode": {
    "name": "ipython",
    "version": 3
   },
   "file_extension": ".py",
   "mimetype": "text/x-python",
   "name": "python",
   "nbconvert_exporter": "python",
   "pygments_lexer": "ipython3",
   "version": "3.11.9"
  }
 },
 "nbformat": 4,
 "nbformat_minor": 2
}
