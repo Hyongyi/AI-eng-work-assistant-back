{
 "cells": [
  {
   "cell_type": "code",
   "execution_count": 4,
   "metadata": {},
   "outputs": [
    {
     "name": "stdout",
     "output_type": "stream",
     "text": [
      "문법적으로 맞는 문장은 다음과 같습니다.\n",
      "\n",
      "\"My name is Austin.\"\n",
      "\n",
      "문제가 되는 부분은 \"I\"입니다. \"I\"는 명사로 '나', '저'라는 뜻을 가지지만, 이 문장에서는 소유를 나타내는 서술어가 필요한데 'I'는 해당하지 않습니다.\n",
      "\n",
      "대신, \"my\"라는 소유형용사가 필요합니다. \"my\"는 '나의', '제'라는 뜻을 가지며, 다음과 같은 문장에서 사용됩니다.\n",
      "\n",
      "- My name은 나의 이름을 뜻합니다.\n",
      "- My car는 나의 자동차를 뜻합니다.\n",
      "\n",
      "따라서, \"I name\"대신에 \"My name\"을 사용하는 것이 맞습니다.\n"
     ]
    }
   ],
   "source": [
    "import os\n",
    "from groq import Groq\n",
    "import config\n",
    "\n",
    "# 키를 여기에 넣어주세요\n",
    "GROQ_API_KEY=config.API_KEY\n",
    "\n",
    "# Groq 클라이언트 초기화\n",
    "client = Groq(\n",
    "    api_key=GROQ_API_KEY\n",
    ")\n",
    "\n",
    "# API 호출\n",
    "chat_completion = client.chat.completions.create(\n",
    "    messages=[\n",
    "        {\n",
    "            \"role\": \"user\",\n",
    "            \"content\": \"다음의 문장을 문법적으로 맞게 고치고 어디가 어떻게 틀렸는지 한국어로 설명해줘. 한자, 일본어는 절대 쓰지 말아줘. I name is Austin. \",\n",
    "        }\n",
    "    ],\n",
    "    model=\"llama-3.1-70b-versatile\",\n",
    ")\n",
    "\n",
    "# 응답 출력\n",
    "print(chat_completion.choices[0].message.content)"
   ]
  },
  {
   "cell_type": "code",
   "execution_count": 1,
   "metadata": {},
   "outputs": [
    {
     "name": "stdout",
     "output_type": "stream",
     "text": [
      "{'object': 'list', 'data': [{'id': 'llama3-8b-8192', 'object': 'model', 'created': 1693721698, 'owned_by': 'Meta', 'active': True, 'context_window': 8192, 'public_apps': None}, {'id': 'gemma-7b-it', 'object': 'model', 'created': 1693721698, 'owned_by': 'Google', 'active': True, 'context_window': 8192, 'public_apps': None}, {'id': 'llama-guard-3-8b', 'object': 'model', 'created': 1693721698, 'owned_by': 'Meta', 'active': True, 'context_window': 8192, 'public_apps': None}, {'id': 'llava-v1.5-7b-4096-preview', 'object': 'model', 'created': 1725402373, 'owned_by': 'Other', 'active': True, 'context_window': 4096, 'public_apps': None}, {'id': 'mixtral-8x7b-32768', 'object': 'model', 'created': 1693721698, 'owned_by': 'Mistral AI', 'active': True, 'context_window': 32768, 'public_apps': None}, {'id': 'llama-3.1-8b-instant', 'object': 'model', 'created': 1693721698, 'owned_by': 'Meta', 'active': True, 'context_window': 131072, 'public_apps': None}, {'id': 'llama3-groq-8b-8192-tool-use-preview', 'object': 'model', 'created': 1693721698, 'owned_by': 'Groq', 'active': True, 'context_window': 8192, 'public_apps': None}, {'id': 'gemma2-9b-it', 'object': 'model', 'created': 1693721698, 'owned_by': 'Google', 'active': True, 'context_window': 8192, 'public_apps': None}, {'id': 'distil-whisper-large-v3-en', 'object': 'model', 'created': 1693721698, 'owned_by': 'Hugging Face', 'active': True, 'context_window': 448, 'public_apps': None}, {'id': 'llama3-groq-70b-8192-tool-use-preview', 'object': 'model', 'created': 1693721698, 'owned_by': 'Groq', 'active': True, 'context_window': 8192, 'public_apps': None}, {'id': 'whisper-large-v3', 'object': 'model', 'created': 1693721698, 'owned_by': 'OpenAI', 'active': True, 'context_window': 448, 'public_apps': None}, {'id': 'llama-3.1-70b-versatile', 'object': 'model', 'created': 1693721698, 'owned_by': 'Meta', 'active': True, 'context_window': 131072, 'public_apps': None}, {'id': 'llama3-70b-8192', 'object': 'model', 'created': 1693721698, 'owned_by': 'Meta', 'active': True, 'context_window': 8192, 'public_apps': None}]}\n"
     ]
    }
   ],
   "source": [
    "import requests\n",
    "import os\n",
    "import config\n",
    "\n",
    "api_key = config.API_KEY\n",
    "url = \"https://api.groq.com/openai/v1/models\"\n",
    "\n",
    "headers = {\n",
    "    \"Authorization\": f\"Bearer {api_key}\",\n",
    "    \"Content-Type\": \"application/json\"\n",
    "}\n",
    "\n",
    "response = requests.get(url, headers=headers)\n",
    "\n",
    "print(response.json())"
   ]
  },
  {
   "cell_type": "code",
   "execution_count": 4,
   "metadata": {},
   "outputs": [
    {
     "name": "stdout",
     "output_type": "stream",
     "text": [
      "일단 제시된 문장을 검사해보겠습니다. 제시된 문장은 \"i name is Austin\"입니다. 이 문장은 영어 문법에 따라 작성된 표준 문장이 아님을 알 수 있습니다. 수준에 맞게 깊이 있게 설명드리겠습니다.\n",
      "\n",
      "제목에서 부제목까지 체크를 해보겠습니다. 제목이 잘못되었을 뿐만 아니라 첫 단어가 \"i\"로 시작되죠. 이름을紹介할 때 사용하는 이름을 자신을 소개할 때는 \"I\"가 맞습니다. 첫번째 실수입니다.\n",
      "\n",
      "제목을 다시 한번 확인해보겠습니다. 이는 이름을표현하는 복수형이 맞습니다. 하지만 제시된 문장은 이름을自己的 소개하는 것인데 이는 단일형이 맞습니다. 그러므로 다음과 같이 고쳐야합니다. \n",
      "\"My name...\"\n",
      "\n",
      "이제 다시 전체의 문장에서 확인을 해보겠습니다. \n",
      "\"I my name is Austin\"은 우리가 영어로 이름을 소개할 때 주로 사용하는 문장이 맞지만, \"I\"문장을 사용할 때는 항상主語로서 사용하는 점을 주의해야합니다. 하지만 이 문장은 \"My\"를 사용하는 것이 맞습니다. 다시 한번 살펴본다면 \"my name\"는 소유격이기 때문에 소유하는 쪽이이름을 introduction하는 문장이기때문에\n",
      "\"I my...\"는 사용하지 않습니다.\n",
      "\n",
      "다시 한번 전체의 단어자리를 바꿔본다면 \n",
      "\"私の名前はオースチンです\"는 전체적으로 다음과 같이 바뀌게 됩니다. \n",
      "\"I my name\"을 사용할 것이 아니라 \n",
      "\"私の名前\"이면서도 한 단어가 더 필요한지 없는지 조금이라도 헷갈릴 수 있습니다. 하지만 전혀 그렇지않습니다.\n",
      "명의 모든 소유권이 이것을 주인에게 있쁘다는 걸 알면 \n",
      "첫 단어는 다음과 같이 나타낼 수 있습니다. \n",
      "\"I'm\"은 주어와목적어가 동일하게 대명사 중 한 형태, i am의 미래형으로도 볼 수 있습니다. 이와 같은 복합체 I am은 모두 첫번째 인칭의  \"I\"를 뜻하기 때문입니다. \"I'm\"은 여기서 \n",
      "\"-이다\"로도 표현이 가능한 맞춤법이면서도 남성이 된다면 \n",
      "제시된 이름 \"Austin\"앞에는 I'm가 위치합니다.\n",
      "만약에Austin라는 말 자체를 쓸려고면 \n",
      "\"I'm Austin\"은 형태의 맞춤법으로 표현하는 것입니다. \n",
      "\n",
      "하지만 만약에 Austin이란 이름을 부르는 이름 전체를 표현하는 문장을 다시 불러야한다면\n",
      "\"I'm Austin\"는이 문장을 사용하는 곳이 정해져 있기 때문에 문장을 다시 만들되어야합니다. 또 다른 표현을 사용한다면 반드시 \"I'm...\"은 사용하지않을 것입니다. 다시 한번 차이의 확장을 나타낼까요? 차이점은 \"my name...\"을 잘 확인해볼 수 있습니다. 하지만 문법적으로 의미를 나타낼 때는 불필요한 단어를 붙이는 것은 피한다는 것은 우리들도 이처럼 더 많은 걸배우는 것이며 \n",
      "저와 학생 여러분은 일상생활 중에서도 다 사용하고 있는 거라 정말 힘들지 않을 겁니다. 하지만 일상생활을할 때 문장으로 표현하는 저절로 그런 형식으로 표현을하는 것은 일상생활에서 자연적인 것이고 쉽습니다.\n",
      "두目の 차이점은 다시 한번  \"my...\"이 표현의 차이점이지만 몇 명이에요? 한 명이요 그다면 \"My name\"을 쓰셔야합니다. 여러 명의 이름의 이니셜이 많을 거라 전연관이되는 문장을 쓰기를 원하신다면 차라리 첫 번째 일반화된 \"my...\"대신에 'my'의 복수형은 \"our\"을 사용하는 것이 맞습니다. 하지만 만약에 문장에 표현의 차이를 나타낼 때는 \n",
      "\"I amAustin,...\"과 같은 문법으로 표현이 되는 형태로 보아도 될 거 같습니다.\n",
      "\n",
      "제시된 문장을 정리해서 다시 내용의 검수를 해보겠습니다. 검수 결과를 다시 확인해보겠습니다. \n",
      "\"I'm\"과  \"Austin\" 두개를 하나로 표현할 때는 I'm Austin은 문법적으로 용법이 다르지만 \n",
      "\"My name is Austin\"은 문법으로 모든 한명에 대해 나타내는게 맞습니다. \n",
      "\n",
      "정리하면 다음과 같습니다. \n",
      "제시된 문장은 다음과 같이 고칠 수 있습니다. \n",
      "정확한 문장은 \n",
      "\"I my name is Austin\"는 문법적으로 불가능합니다. \n",
      "오직 2가지로만 사용할 수 있습니다.\n",
      "\n",
      "1. \"I'm Austin\"\n",
      "2. \"My name is Austin\"\n",
      "이 절은 현대 세계에서 기술의 중요성을 강조하며, 기술이 일상 생활의 모든 측면을 변혁시켰다는 것을 보여줍니다. 인터넷의 普及과 함께 전 세계에있는 사람들之间의 커뮤니케이션과 정보공유가 즉각적으로 이루어지게 되었으며, 소셜미디어 플랫폼의 성장과 원격근무 및 온라인 교육의 普及로 인해 사람들은 지리적 제한없이 관계를 유지하고 일하거나 공부할 수 있는 유연성을 가지게 되었습니다. Artificial Intelligence 과 Machine Learning의 발전은 업무 자동화, 효율성 향상 및 데이터 분석을 통해 귀중한 인사이트를 제공함으로써 산업을 혁신시키고 있습니다. 그러나 이러한 급속한 기술 발전은 개인정보보호, 디지털 격차, 자동화가 고용에 미치는 영향에 관한 문제 등 다양한 도전을 안겨줍니다. 이러한 복잡한 상황을 겪으며 우리는 기술의 이점을 활용하고 윤리적 의미를 다루는 균형을 찾는 것이 무엇보다 중요합니다. 기술의 발전이 더 많은 사람들을 위해 봉사하고 包括性과 지속가능성을 촉진하는 것을 보장하는 것이죠.\n"
     ]
    }
   ],
   "source": [
    "import os\n",
    "from groq import Groq\n",
    "import config as config\n",
    "\n",
    "# Groq 클라이언트 초기화\n",
    "client = Groq(\n",
    "    api_key=config.API_KEY\n",
    ")\n",
    "\n",
    "# Prompt 템플릿을 변수로 정의\n",
    "correct_grammar_template = \"당신은 영어 선생님으로 당신의 직무는 영어를 배우는 학생들을 가르치고 올바른 영어를 사용할 수 있게 도와주는 선생님입니다. 학생들은 한국인이기에 무조건 한국말을 사용해야 합니다. 한국어 외에 다른 언어로 설명하면 한국 학생들은 더이상 수업에 나오지 않을 겁니다. 다른 언어를 사용하지 않도록 주의하세요. 단, 학생이 제시한 문장은 영어 그대로 사용해주세요. 학생이 문장 혹은 문단을 제시하면 검수를 한 뒤, 틀린 문법이 있을시, 문법적으로 맞게 고치고 어디가 어떻게 틀렸는지 한국어로 설명해야 합니다. 다음은 학생이 당신에게 검수를 요청하는 내용입니다.\\n {sentence} \\n 다음 내용을 검수하고 틀린 부분이 있으면 문법 위주로 친절하게 단계별로 설명해주세요.\"\n",
    "\n",
    "description_template = \"당신은 영어 선생님으로 당신의 직무는 영어를 배우는 학생들을 가르치고 올바른 영어를 사용할 수 있게 도와주는 선생님입니다. 학생들은 한국인이기에 무조건 한국말을 사용해야 합니다. 한국어 외에 다른 언어로 설명하면 한국 학생들은 더이상 수업에 나오지 않을 겁니다. 다른 언어를 사용하지 않도록 주의하세요. 단, 학생이 제시한 문장은 영어 그대로 사용해주세요. 학생이 영어로 된 문장 혹은 문단을 제시하면 당신은 이 문장을 분석해서 설명해주어야 합니다. 간결하게 설명하되, 내용이 누락되면 안됩니다. 다음은 학생이 당신에게 물어보는 내용입니다.\\n {sentence} \\n 다음 내용을 분석한 뒤, 요약하여 전달해주세요. 문장은 끊어지지 않고 전체적으로 이어지게 만들어주세요\"\n",
    "\n",
    "def call_Groq_api(prompt):\n",
    "    response = client.chat.completions.create(\n",
    "        messages=[\n",
    "            {\n",
    "                \"role\": \"user\",\n",
    "                \"content\": prompt,\n",
    "            }\n",
    "        ],\n",
    "        model=\"llama-3.1-70b-versatile\",\n",
    "    )\n",
    "    \n",
    "    return response.choices[0].message.content\n",
    "\n",
    "def prompt_format(prompt, sentence):\n",
    "    prompt_template = prompt.format(sentence=sentence)\n",
    "    return call_Groq_api(prompt_template)\n",
    "\n",
    "# 사용 예시\n",
    "print(prompt_format(correct_grammar_template, \"i name is Austin\"))\n",
    "print(prompt_format(description_template, \"In the modern world, the importance of technology cannot be overstated, as it has transformed every aspect of our daily lives, from how we communicate and socialize to how we work and learn. The advent of the internet has connected people across the globe, allowing for instantaneous communication and the sharing of information on an unprecedented scale. This connectivity has not only fostered the growth of social media platforms, enabling individuals to maintain relationships regardless of geographical boundaries, but it has also facilitated the rise of remote work and online education, giving people the flexibility to work or study from anywhere in the world. Moreover, advancements in artificial intelligence and machine learning are revolutionizing industries by automating tasks, enhancing efficiency, and providing valuable insights through data analysis. However, this rapid technological evolution also brings challenges, such as concerns over privacy, the digital divide, and the impact of automation on employment. As we continue to navigate this complex landscape, it is crucial to strike a balance between leveraging the benefits of technology and addressing the ethical implications it presents, ensuring that progress serves the greater good while fostering inclusivity and sustainability.\"))\n",
    "\n"
   ]
  }
 ],
 "metadata": {
  "kernelspec": {
   "display_name": "eng-teacher",
   "language": "python",
   "name": "python3"
  },
  "language_info": {
   "codemirror_mode": {
    "name": "ipython",
    "version": 3
   },
   "file_extension": ".py",
   "mimetype": "text/x-python",
   "name": "python",
   "nbconvert_exporter": "python",
   "pygments_lexer": "ipython3",
   "version": "3.11.9"
  }
 },
 "nbformat": 4,
 "nbformat_minor": 2
}
